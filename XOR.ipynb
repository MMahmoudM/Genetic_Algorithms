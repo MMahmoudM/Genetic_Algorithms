{
 "cells": [
  {
   "cell_type": "code",
   "execution_count": 1,
   "id": "a41428ea-6bf2-4862-93c5-050312d6d2ff",
   "metadata": {},
   "outputs": [],
   "source": [
    "import numpy as np\n",
    "import tensorflow as tf"
   ]
  },
  {
   "cell_type": "code",
   "execution_count": 2,
   "id": "bf373963-b186-4892-8e9d-d1ff0ad894d8",
   "metadata": {},
   "outputs": [],
   "source": [
    "# Different Possibilites (Training Data).\n",
    "X = np.array([\n",
    "    [0,0],\n",
    "    [0,1],\n",
    "    [1,0],\n",
    "    [1,1]\n",
    "])"
   ]
  },
  {
   "cell_type": "code",
   "execution_count": 3,
   "id": "b8f534ad-0edc-4a66-952d-b882f386a259",
   "metadata": {},
   "outputs": [],
   "source": [
    "# Return values of the different inputs (Target Data).\n",
    "Y = np.array([\n",
    "    [0],\n",
    "    [1],\n",
    "    [1],\n",
    "    [0]\n",
    "])"
   ]
  },
  {
   "cell_type": "code",
   "execution_count": 4,
   "id": "1d80c342-ced2-41d3-86aa-6b0b24571274",
   "metadata": {},
   "outputs": [],
   "source": [
    "XOR_NN_model = tf.keras.Sequential([\n",
    "    #tf.keras.layers.Dense(8, input_shape=(2, )),\n",
    "    tf.keras.layers.Dense(8, input_dim=2),\n",
    "    tf.keras.layers.Dense(8, activation='tanh'),\n",
    "    tf.keras.layers.Dense(1, activation='sigmoid')\n",
    "])\n",
    "\n",
    "XOR_NN_model.compile(optimizer=tf.keras.optimizers.SGD(0.1), \n",
    "                     loss='binary_crossentropy',\n",
    "                     metrics=['accuracy'])"
   ]
  },
  {
   "cell_type": "code",
   "execution_count": 5,
   "id": "a09b9839-6d9c-4de8-bc35-9e65c5d93dc9",
   "metadata": {},
   "outputs": [],
   "source": [
    "# Train our model.\n",
    "# verbose = 0: means print nothing while traning.\n",
    "history = XOR_NN_model.fit(X, Y, epochs=100, batch_size=1, verbose=0)"
   ]
  },
  {
   "cell_type": "code",
   "execution_count": 6,
   "id": "38829303-a908-41fa-8d52-1c79baf45748",
   "metadata": {},
   "outputs": [
    {
     "name": "stdout",
     "output_type": "stream",
     "text": [
      "1/1 [==============================] - 0s 231ms/step\n",
      "[[0.]\n",
      " [1.]\n",
      " [1.]\n",
      " [0.]]\n"
     ]
    }
   ],
   "source": [
    "print(XOR_NN_model.predict(X).round())"
   ]
  }
 ],
 "metadata": {
  "kernelspec": {
   "display_name": "Python 3 (ipykernel)",
   "language": "python",
   "name": "python3"
  },
  "language_info": {
   "codemirror_mode": {
    "name": "ipython",
    "version": 3
   },
   "file_extension": ".py",
   "mimetype": "text/x-python",
   "name": "python",
   "nbconvert_exporter": "python",
   "pygments_lexer": "ipython3",
   "version": "3.10.8"
  }
 },
 "nbformat": 4,
 "nbformat_minor": 5
}
